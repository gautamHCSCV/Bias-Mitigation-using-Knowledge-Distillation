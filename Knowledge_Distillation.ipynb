{
 "cells": [
  {
   "cell_type": "code",
   "execution_count": 1,
   "id": "dbb89e7f",
   "metadata": {},
   "outputs": [],
   "source": [
    "import os\n",
    "import json\n",
    "import time\n",
    "import random\n",
    "import numpy as np\n",
    "import pandas as pd\n",
    "import pydicom\n",
    "from PIL import Image\n",
    "from sklearn.model_selection import train_test_split\n",
    "import warnings\n",
    "warnings.filterwarnings(\"ignore\")"
   ]
  },
  {
   "cell_type": "code",
   "execution_count": 2,
   "id": "a94298f9",
   "metadata": {},
   "outputs": [],
   "source": [
    "import torch\n",
    "import torch.nn as nn\n",
    "import torch.optim as optim\n",
    "import torchvision\n",
    "import torch.nn.functional as F\n",
    "from torchvision import transforms\n",
    "from torch.utils.data import Dataset, DataLoader\n",
    "import torchvision.models as models\n",
    "from sklearn.metrics import precision_recall_fscore_support, roc_auc_score\n",
    "import matplotlib.pyplot as plt\n",
    "import sklearn.metrics as metrics"
   ]
  },
  {
   "cell_type": "code",
   "execution_count": 18,
   "id": "760c4a8b",
   "metadata": {},
   "outputs": [
    {
     "data": {
      "text/plain": [
       "device(type='cuda')"
      ]
     },
     "execution_count": 18,
     "metadata": {},
     "output_type": "execute_result"
    }
   ],
   "source": [
    "os.environ[\"CUDA_DEVICE_ORDER\"]=\"PCI_BUS_ID\"  \n",
    "os.environ[\"CUDA_VISIBLE_DEVICES\"]=\"3\"\n",
    "device = torch.device(\"cuda\" if torch.cuda.is_available() else \"cpu\")\n",
    "device"
   ]
  },
  {
   "cell_type": "code",
   "execution_count": 4,
   "id": "77711eff",
   "metadata": {},
   "outputs": [],
   "source": [
    "config = dict(\n",
    "    saved_path=\"saved_models/efficientb4_cifar10.pt\",\n",
    "    best_saved_path = \"saved/random_best.pt\",\n",
    "    lr=0.001, \n",
    "    EPOCHS = 3,\n",
    "    BATCH_SIZE = 32,\n",
    "    IMAGE_SIZE = 132,\n",
    "    TRAIN_VALID_SPLIT = 0.2,\n",
    "    device=device,\n",
    "    SEED = 42,\n",
    "    pin_memory=True,\n",
    "    num_workers=2,\n",
    "    USE_AMP = True,\n",
    "    channels_last=False)"
   ]
  },
  {
   "cell_type": "code",
   "execution_count": 5,
   "id": "8776495c",
   "metadata": {},
   "outputs": [],
   "source": [
    "random.seed(config['SEED'])\n",
    "# If you or any of the libraries you are using rely on NumPy, you can seed the global NumPy RNG \n",
    "np.random.seed(config['SEED'])\n",
    "# Prevent RNG for CPU and GPU using torch\n",
    "torch.manual_seed(config['SEED'])\n",
    "torch.cuda.manual_seed(config['SEED'])\n",
    "torch.backends.cudnn.benchmarks = True\n",
    "torch.backends.cudnn.deterministic = True\n",
    "\n",
    "torch.backends.cuda.matmul.allow_tf32 = True\n",
    "\n",
    "# The flag below controls whether to allow TF32 on cuDNN. This flag defaults to True.\n",
    "torch.backends.cudnn.allow_tf32 = True"
   ]
  },
  {
   "cell_type": "code",
   "execution_count": 6,
   "id": "3e0a06e5",
   "metadata": {},
   "outputs": [],
   "source": [
    "data_transforms = {\n",
    "    'train': transforms.Compose([\n",
    "        transforms.RandomResizedCrop((config['IMAGE_SIZE'],config['IMAGE_SIZE'])),\n",
    "        transforms.RandomHorizontalFlip(),\n",
    "        transforms.RandomRotation(degrees=15),\n",
    "        transforms.ToTensor(),\n",
    "        transforms.Normalize([0.485, 0.456, 0.406], [0.229, 0.224, 0.225])\n",
    "    ]),\n",
    "    'val': transforms.Compose([\n",
    "        transforms.Resize((config['IMAGE_SIZE'],config['IMAGE_SIZE'])),\n",
    "        transforms.ToTensor(),\n",
    "        transforms.Normalize([0.485, 0.456, 0.406], [0.229, 0.224, 0.225])\n",
    "    ]),\n",
    "    'test': transforms.Compose([\n",
    "        transforms.Resize((config['IMAGE_SIZE'],config['IMAGE_SIZE'])),\n",
    "        transforms.ToTensor(),\n",
    "        transforms.Normalize([0.485, 0.456, 0.406], [0.229, 0.224, 0.225])\n",
    "    ]),\n",
    "}"
   ]
  },
  {
   "cell_type": "code",
   "execution_count": 7,
   "id": "8389e20a",
   "metadata": {},
   "outputs": [
    {
     "name": "stdout",
     "output_type": "stream",
     "text": [
      "Files already downloaded and verified\n",
      "Files already downloaded and verified\n"
     ]
    }
   ],
   "source": [
    "# Load data\n",
    "train_data = torchvision.datasets.CIFAR10(root='../Images', train=True, download=True, transform=data_transforms['test'])\n",
    "test_data = torchvision.datasets.CIFAR10(root='../Images', train=False, download=True, transform=data_transforms['test'])\n",
    "valid_data = test_data"
   ]
  },
  {
   "cell_type": "code",
   "execution_count": 8,
   "id": "82f304d4",
   "metadata": {},
   "outputs": [],
   "source": [
    "train_dl = torch.utils.data.DataLoader(train_data, batch_size=32,shuffle=True, num_workers = config['num_workers'],\n",
    "                                          pin_memory = config['pin_memory'])\n",
    "\n",
    "\n",
    "test_dl = torch.utils.data.DataLoader(test_data, batch_size=32,shuffle=True, num_workers = config['num_workers'],\n",
    "                                          pin_memory = config['pin_memory'])\n",
    "valid_dl = torch.utils.data.DataLoader(valid_data, batch_size=32,shuffle=True, num_workers = config['num_workers'],\n",
    "                                          pin_memory = config['pin_memory'])"
   ]
  },
  {
   "cell_type": "code",
   "execution_count": 9,
   "id": "a2d105a0",
   "metadata": {},
   "outputs": [],
   "source": [
    "def train_model(model,criterion,optimizer,num_epochs=10):\n",
    "\n",
    "    since = time.time()                                            \n",
    "    batch_ct = 0\n",
    "    example_ct = 0\n",
    "    best_acc = 0.3\n",
    "    for epoch in range(num_epochs):\n",
    "        print('Epoch {}/{}'.format(epoch, num_epochs - 1))\n",
    "        print('-' * 10)\n",
    "        run_corrects = 0\n",
    "        #Training\n",
    "        model.train()\n",
    "        for x,y in train_dl: #BS=32 ([BS,3,224,224], [BS,4])            \n",
    "            if config['channels_last']:\n",
    "                x = x.to(config['device'], memory_format=torch.channels_last) #CHW --> #HWC\n",
    "            else:\n",
    "                x = x.to(config['device'])\n",
    "            y = y.to(config['device']) #CHW --> #HWC\n",
    "            \n",
    "            \n",
    "            \n",
    "            optimizer.zero_grad()\n",
    "            #optimizer.zero_grad(set_to_none=True)\n",
    "            ######################################################################\n",
    "            \n",
    "            train_logits = model(x) #Input = [BS,3,224,224] (Image) -- Model --> [BS,4] (Output Scores)\n",
    "            \n",
    "            _, train_preds = torch.max(train_logits, 1)\n",
    "            train_loss = criterion(train_logits,y)\n",
    "            train_loss = criterion(train_logits,y)\n",
    "            run_corrects += torch.sum(train_preds == y.data)\n",
    "            \n",
    "            train_loss.backward() # Backpropagation this is where your W_gradient\n",
    "            loss=train_loss\n",
    "\n",
    "            optimizer.step() # W_new = W_old - LR * W_gradient \n",
    "            example_ct += len(x) \n",
    "            batch_ct += 1\n",
    "            if ((batch_ct + 1) % 400) == 0:\n",
    "                train_log(loss, example_ct, epoch)\n",
    "            ########################################################################\n",
    "        \n",
    "        #validation\n",
    "        model.eval()\n",
    "        running_loss = 0.0\n",
    "        running_corrects = 0\n",
    "        total = 0\n",
    "        # Disable gradient calculation for validation or inference using torch.no_rad()\n",
    "        with torch.no_grad():\n",
    "            for x,y in valid_dl:\n",
    "                if config['channels_last']:\n",
    "                    x = x.to(config['device'], memory_format=torch.channels_last) #CHW --> #HWC\n",
    "                else:\n",
    "                    x = x.to(config['device'])\n",
    "                y = y.to(config['device'])\n",
    "                valid_logits = model(x)\n",
    "                _, valid_preds = torch.max(valid_logits, 1)\n",
    "                valid_loss = criterion(valid_logits,y)\n",
    "                running_loss += valid_loss.item() * x.size(0)\n",
    "                running_corrects += torch.sum(valid_preds == y.data)\n",
    "                total += y.size(0)\n",
    "            \n",
    "        epoch_loss = running_loss / len(valid_data)\n",
    "        epoch_acc = running_corrects.double() / len(valid_data)\n",
    "        train_acc = run_corrects.double() / len(train_data)\n",
    "        print(\"Train Accuracy\",train_acc.cpu())\n",
    "        print(\"Validation Loss is {}\".format(epoch_loss))\n",
    "        print(\"Validation Accuracy is {}\\n\".format(epoch_acc.cpu()))\n",
    "        if epoch_acc.cpu()>best_acc:\n",
    "            print('One of the best validation accuracy found.\\n')\n",
    "            #torch.save(model.state_dict(), config['best_saved_path'])\n",
    "            best_acc = epoch_acc.cpu()\n",
    "\n",
    "            \n",
    "    time_elapsed = time.time() - since\n",
    "    print('Training complete in {:.0f}m {:.0f}s'.format(\n",
    "        time_elapsed // 60, time_elapsed % 60))\n",
    "    \n",
    "    torch.save(model.state_dict(), config['saved_path'])\n",
    "\n",
    "    \n",
    "def train_log(loss, example_ct, epoch):\n",
    "    loss = float(loss)\n",
    "    print(f\"Loss after \" + str(example_ct).zfill(5) + f\" examples: {loss:.3f}\")"
   ]
  },
  {
   "cell_type": "code",
   "execution_count": 11,
   "id": "559b82f1",
   "metadata": {},
   "outputs": [
    {
     "data": {
      "text/plain": [
       "<All keys matched successfully>"
      ]
     },
     "execution_count": 11,
     "metadata": {},
     "output_type": "execute_result"
    }
   ],
   "source": [
    "efficientnet = models.efficientnet_b0(pretrained = True)\n",
    "efficientnet.classifier[1] = nn.Linear(in_features = 1280, out_features = 10, bias = True)\n",
    "model = efficientnet\n",
    "criterion = nn.CrossEntropyLoss()\n",
    "model = model.to(config['device'])\n",
    "optimizer = optim.Adam(model.parameters(),lr=config['lr'])\n",
    "model.load_state_dict(torch.load('saved_models/child.pt'))\n",
    "#train_model(model,criterion,optimizer,num_epochs=8)"
   ]
  },
  {
   "cell_type": "code",
   "execution_count": 12,
   "id": "da57b159",
   "metadata": {},
   "outputs": [
    {
     "name": "stdout",
     "output_type": "stream",
     "text": [
      "Test Loss is 0.29729179959520696\n",
      "Test Accuracy is 0.9142\n",
      "\n",
      "AUROC:\n",
      "0.9957011777777778\n",
      "              precision    recall  f1-score   support\n",
      "\n",
      "           0       0.92      0.93      0.92      1000\n",
      "           1       0.97      0.95      0.96      1000\n",
      "           2       0.94      0.84      0.89      1000\n",
      "           3       0.82      0.86      0.84      1000\n",
      "           4       0.92      0.90      0.91      1000\n",
      "           5       0.85      0.89      0.87      1000\n",
      "           6       0.89      0.95      0.92      1000\n",
      "           7       0.98      0.90      0.94      1000\n",
      "           8       0.92      0.97      0.95      1000\n",
      "           9       0.95      0.94      0.95      1000\n",
      "\n",
      "    accuracy                           0.91     10000\n",
      "   macro avg       0.92      0.91      0.91     10000\n",
      "weighted avg       0.92      0.91      0.91     10000\n",
      "\n"
     ]
    }
   ],
   "source": [
    "def evaluation(model,test_dl):\n",
    "    model.eval()\n",
    "    running_loss = 0.0\n",
    "    running_corrects = 0\n",
    "    total = 0\n",
    "    preds = []\n",
    "    pred_labels = []\n",
    "    labels = []\n",
    "\n",
    "    with torch.no_grad():\n",
    "                for x,y in test_dl:\n",
    "                    x = x.to(config['device'])\n",
    "                    y = y.to(config['device']) #CHW --> #HWC\n",
    "                    valid_logits = model(x)\n",
    "                    predict_prob = F.softmax(valid_logits)\n",
    "                    _,predictions = predict_prob.max(1)\n",
    "                    predictions = predictions.to('cpu')\n",
    "\n",
    "                    _, valid_preds = torch.max(valid_logits, 1)\n",
    "                    valid_loss = criterion(valid_logits,y)\n",
    "                    running_loss += valid_loss.item() * x.size(0)\n",
    "                    running_corrects += torch.sum(valid_preds == y.data)\n",
    "                    total += y.size(0)\n",
    "                    predict_prob = predict_prob.to('cpu')\n",
    "\n",
    "                    pred_labels.extend(list(predictions.numpy()))\n",
    "                    preds.extend(list(predict_prob.numpy()))\n",
    "                    y = y.to('cpu')\n",
    "                    labels.extend(list(y.numpy()))\n",
    "\n",
    "    epoch_loss = running_loss / len(test_data)\n",
    "    epoch_acc = running_corrects.double() / len(test_data)\n",
    "    print(\"Test Loss is {}\".format(epoch_loss))\n",
    "    print(\"Test Accuracy is {}\".format(epoch_acc.cpu()))\n",
    "    return np.array(labels),np.array(pred_labels),np.array(preds)\n",
    "    \n",
    "\n",
    "labels, pred_labels,preds = evaluation(model, test_dl)\n",
    "#print(metrics.precision_recall_fscore_support(np.array(labels), np.array(pred_labels)))\n",
    "print('\\nAUROC:')\n",
    "print(metrics.roc_auc_score(np.array(labels), np.array(preds), multi_class='ovr'))\n",
    "print(metrics.classification_report(labels,pred_labels))"
   ]
  },
  {
   "cell_type": "code",
   "execution_count": 20,
   "id": "f53622da",
   "metadata": {},
   "outputs": [],
   "source": [
    "def calculate_disparate_impact(model, dataloader):\n",
    "    #device = next(model.parameters()).device\n",
    "    model.eval()\n",
    "    with torch.no_grad():\n",
    "        class_counts = torch.zeros((10,))\n",
    "        correct_counts = torch.zeros((10,))\n",
    "        for images, labels in dataloader:\n",
    "            images, labels = images.to(device), labels.to(device)\n",
    "            outputs = model(images)\n",
    "            preds = torch.argmax(outputs, dim=1)\n",
    "            for i in range(10):\n",
    "                class_mask = labels == i\n",
    "                class_counts[i] += torch.sum(class_mask)\n",
    "                correct_counts[i] += torch.sum(preds[class_mask] == labels[class_mask])\n",
    "\n",
    "        proportions = correct_counts / class_counts\n",
    "        reference_proportion = torch.mean(proportions)\n",
    "        max_proportion = torch.max(proportions)\n",
    "        \n",
    "        return reference_proportion / max_proportion"
   ]
  },
  {
   "cell_type": "code",
   "execution_count": 22,
   "id": "3f083046",
   "metadata": {},
   "outputs": [
    {
     "name": "stdout",
     "output_type": "stream",
     "text": [
      "Disparate Impact: 0.9376\n"
     ]
    }
   ],
   "source": [
    "device = 'cpu'\n",
    "model = model.to('cpu')\n",
    "disparate_impact = calculate_disparate_impact(model, test_dl)\n",
    "print(f\"Disparate Impact: {disparate_impact:.4f}\")"
   ]
  },
  {
   "cell_type": "markdown",
   "id": "9fe89b33",
   "metadata": {},
   "source": [
    "# Bias Observation"
   ]
  },
  {
   "cell_type": "code",
   "execution_count": 23,
   "id": "e1091652",
   "metadata": {},
   "outputs": [
    {
     "name": "stdout",
     "output_type": "stream",
     "text": [
      "Bias mean: 0.10364648806415327\n",
      "Bias std: 0.927578089418026\n"
     ]
    }
   ],
   "source": [
    "# Calculate the mean and standard deviation of the bias values of the layers\n",
    "bias_mean = []\n",
    "bias_std = []\n",
    "for name, param in model.named_parameters():\n",
    "    if 'bias' in name:\n",
    "        bias_mean.append(param.data.mean().item())\n",
    "        bias_std.append(param.data.std().item())\n",
    "print(f'Bias mean: {np.mean(bias_mean)}')\n",
    "print(f'Bias std: {np.mean(bias_std)}')"
   ]
  },
  {
   "cell_type": "code",
   "execution_count": 14,
   "id": "81308b16",
   "metadata": {},
   "outputs": [
    {
     "data": {
      "image/png": "[encoded data removed]",
      "text/plain": [
       "<Figure size 720x432 with 1 Axes>"
      ]
     },
     "metadata": {
      "needs_background": "light"
     },
     "output_type": "display_data"
    }
   ],
   "source": [
    "# Plotting a histogram of the bias values for some layers\n",
    "\n",
    "model = model.to('cpu')\n",
    "num = 0\n",
    "plt.figure(figsize=(10,6))\n",
    "for name, param in model.named_parameters():\n",
    "    if 'bias' in name and f'features.{num}' in name:\n",
    "        plt.hist(param.data.numpy(), bins=20, alpha=0.5, label=name)\n",
    "        num+=1\n",
    "        \n",
    "plt.legend(loc='upper right')\n",
    "plt.show()"
   ]
  },
  {
   "cell_type": "markdown",
   "id": "c6ef137c",
   "metadata": {},
   "source": [
    "# Cross Inductive Bias Distillation\n",
    "\n",
    "Parent model: EfficientNet-B4\n",
    "\n",
    "Child model: EfficientNet-B0"
   ]
  },
  {
   "cell_type": "code",
   "execution_count": 24,
   "id": "95ad076c",
   "metadata": {},
   "outputs": [
    {
     "data": {
      "text/plain": [
       "<All keys matched successfully>"
      ]
     },
     "execution_count": 24,
     "metadata": {},
     "output_type": "execute_result"
    }
   ],
   "source": [
    "efficientnet = models.efficientnet_b4(pretrained = True)\n",
    "efficientnet.classifier[1] = nn.Linear(in_features = 1792, out_features = 10, bias = True)\n",
    "model = efficientnet\n",
    "criterion = nn.CrossEntropyLoss()\n",
    "model = model.to(config['device'])\n",
    "optimizer = optim.Adam(model.parameters(),lr=config['lr'])\n",
    "\n",
    "model.load_state_dict(torch.load('saved_models/parent_best.pt'))\n",
    "#train_model(model,criterion,optimizer,num_epochs=8)"
   ]
  },
  {
   "cell_type": "code",
   "execution_count": 26,
   "id": "d7c178b4",
   "metadata": {},
   "outputs": [
    {
     "name": "stdout",
     "output_type": "stream",
     "text": [
      "Test Loss is 0.16448353337105365\n",
      "Test Accuracy is 0.9524\n",
      "\n",
      "AUROC:\n",
      "0.998272772222222\n",
      "              precision    recall  f1-score   support\n",
      "\n",
      "           0       0.98      0.94      0.96      1000\n",
      "           1       0.97      0.98      0.98      1000\n",
      "           2       0.94      0.95      0.95      1000\n",
      "           3       0.90      0.90      0.90      1000\n",
      "           4       0.94      0.96      0.95      1000\n",
      "           5       0.90      0.93      0.92      1000\n",
      "           6       0.97      0.97      0.97      1000\n",
      "           7       1.00      0.94      0.97      1000\n",
      "           8       0.97      0.97      0.97      1000\n",
      "           9       0.96      0.97      0.96      1000\n",
      "\n",
      "    accuracy                           0.95     10000\n",
      "   macro avg       0.95      0.95      0.95     10000\n",
      "weighted avg       0.95      0.95      0.95     10000\n",
      "\n"
     ]
    }
   ],
   "source": [
    "labels, pred_labels,preds = evaluation(model, test_dl)\n",
    "#print(metrics.precision_recall_fscore_support(np.array(labels), np.array(pred_labels)))\n",
    "print('\\nAUROC:')\n",
    "print(metrics.roc_auc_score(np.array(labels), np.array(preds), multi_class='ovr'))\n",
    "print(metrics.classification_report(labels,pred_labels))"
   ]
  },
  {
   "cell_type": "markdown",
   "id": "a83e4e02",
   "metadata": {},
   "source": [
    "# Knowledge Distillation: Co-advice"
   ]
  },
  {
   "cell_type": "code",
   "execution_count": 24,
   "id": "1115a054",
   "metadata": {},
   "outputs": [],
   "source": [
    "teacher_model = model\n",
    "\n",
    "\n",
    "efficientnet = models.efficientnet_b0(pretrained = True)\n",
    "efficientnet.classifier[1] = nn.Linear(in_features = 1280, out_features = 10, bias = True)\n",
    "model1 = efficientnet\n",
    "model1 = model.to(config['device'])\n",
    "student_model = model1\n",
    "\n",
    "# Define the criterion (loss function) for knowledge distillation\n",
    "class DistillationLoss(nn.Module):\n",
    "    def __init__(self, T):\n",
    "        super(DistillationLoss, self).__init__()\n",
    "        self.T = T\n",
    "        self.kl_div = nn.KLDivLoss(reduction='batchmean')\n",
    "        \n",
    "    def forward(self, outputs, labels, teacher_outputs):\n",
    "        soft_labels = nn.functional.softmax(teacher_outputs/self.T, dim=1)\n",
    "        log_soft_labels = nn.functional.log_softmax(outputs/self.T, dim=1)\n",
    "        loss = self.kl_div(log_soft_labels, soft_labels) * (self.T * self.T)\n",
    "        hard_loss = nn.functional.cross_entropy(outputs, labels)\n",
    "        return loss + hard_loss\n",
    "    \n",
    "# Define the optimizer\n",
    "optimizer = optim.Adam(student_model.parameters(), lr=0.001)\n",
    "\n",
    "# Train the student model with knowledge distillation\n",
    "def train_student_model(train_loader):\n",
    "    distillation_loss = DistillationLoss(T=5) # T is the temperature parameter\n",
    "    student_model.train()\n",
    "    running_loss = 0.0\n",
    "    for i, (inputs, labels) in enumerate(train_loader):\n",
    "        inputs = inputs.cuda()\n",
    "        labels = labels.cuda()\n",
    "        optimizer.zero_grad()\n",
    "        outputs = student_model(inputs)\n",
    "        teacher_outputs = teacher_model(inputs).detach()\n",
    "        loss = distillation_loss(outputs, labels, teacher_outputs)\n",
    "        loss.backward()\n",
    "        optimizer.step()\n",
    "        running_loss += loss.item()\n",
    "    train_loss = running_loss / len(train_loader)\n",
    "    print('Train Loss: {:.4f}'.format(train_loss))\n",
    "\n",
    "# Evaluate the student model on the test set\n",
    "def test_student_model(test_loader):\n",
    "    student_model.eval()\n",
    "    correct = 0\n",
    "    total = 0\n",
    "    with torch.no_grad():\n",
    "        for inputs, labels in test_loader:\n",
    "            inputs = inputs.cuda()\n",
    "            labels = labels.cuda()\n",
    "            outputs = student_model(inputs)\n",
    "            _, predicted = torch.max(outputs.data, 1)\n",
    "            total += labels.size(0)\n",
    "            correct += (predicted == labels).sum().item()\n",
    "    test_acc = 100 * correct / total\n",
    "    print('Test Accuracy: {:.2f}%'.format(test_acc))\n"
   ]
  },
  {
   "cell_type": "code",
   "execution_count": 25,
   "id": "a1934948",
   "metadata": {},
   "outputs": [
    {
     "name": "stdout",
     "output_type": "stream",
     "text": [
      "Epoch: 1\n",
      "Train Loss: 0.1217\n",
      "Test Accuracy: 94.69%\n",
      "Epoch: 2\n",
      "Train Loss: 0.1186\n",
      "Test Accuracy: 94.64%\n",
      "Epoch: 3\n",
      "Train Loss: 0.1063\n",
      "Test Accuracy: 94.19%\n",
      "Epoch: 4\n",
      "Train Loss: 0.0997\n",
      "Test Accuracy: 95.25%\n"
     ]
    }
   ],
   "source": [
    "# Train the student model for 10 epochs using knowledge distillation\n",
    "for epoch in range(3):\n",
    "    print('Epoch: {}'.format(epoch+1))\n",
    "    train_student_model(train_dl)\n",
    "    test_student_model(test_dl)"
   ]
  },
  {
   "cell_type": "code",
   "execution_count": 26,
   "id": "dec42977",
   "metadata": {},
   "outputs": [
    {
     "name": "stdout",
     "output_type": "stream",
     "text": [
      "Test Loss is 0.17310410901606083\n",
      "Test Accuracy is 0.9525\n",
      "\n",
      "AUROC:\n",
      "0.9967054833333332\n",
      "              precision    recall  f1-score   support\n",
      "\n",
      "           0       0.97      0.96      0.96      1000\n",
      "           1       0.95      0.99      0.97      1000\n",
      "           2       0.91      0.97      0.94      1000\n",
      "           3       0.93      0.87      0.90      1000\n",
      "           4       0.96      0.94      0.95      1000\n",
      "           5       0.90      0.93      0.91      1000\n",
      "           6       0.97      0.98      0.98      1000\n",
      "           7       0.98      0.96      0.97      1000\n",
      "           8       0.97      0.97      0.97      1000\n",
      "           9       0.98      0.95      0.97      1000\n",
      "\n",
      "    accuracy                           0.95     10000\n",
      "   macro avg       0.95      0.95      0.95     10000\n",
      "weighted avg       0.95      0.95      0.95     10000\n",
      "\n"
     ]
    }
   ],
   "source": [
    "labels, pred_labels,preds = evaluation(student_model, test_dl)\n",
    "#print(metrics.precision_recall_fscore_support(np.array(labels), np.array(pred_labels)))\n",
    "print('\\nAUROC:')\n",
    "print(metrics.roc_auc_score(np.array(labels), np.array(preds), multi_class='ovr'))\n",
    "print(metrics.classification_report(labels,pred_labels))"
   ]
  },
  {
   "cell_type": "code",
   "execution_count": 28,
   "id": "b55e44bb",
   "metadata": {},
   "outputs": [
    {
     "name": "stdout",
     "output_type": "stream",
     "text": [
      "Disparate Impact: 0.9669\n"
     ]
    }
   ],
   "source": [
    "device = 'cpu'\n",
    "model = model.to('cpu')\n",
    "disparate_impact = calculate_disparate_impact(model, test_dl)\n",
    "print(f\"Disparate Impact: {disparate_impact:.4f}\")"
   ]
  },
  {
   "cell_type": "code",
   "execution_count": null,
   "id": "d050053f",
   "metadata": {},
   "outputs": [],
   "source": []
  }
 ],
 "metadata": {
  "kernelspec": {
   "display_name": "Python 3 (ipykernel)",
   "language": "python",
   "name": "python3"
  },
  "language_info": {
   "codemirror_mode": {
    "name": "ipython",
    "version": 3
   },
   "file_extension": ".py",
   "mimetype": "text/x-python",
   "name": "python",
   "nbconvert_exporter": "python",
   "pygments_lexer": "ipython3",
   "version": "3.7.3"
  }
 },
 "nbformat": 4,
 "nbformat_minor": 5
}
